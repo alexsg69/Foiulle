{
 "cells": [
  {
   "cell_type": "markdown",
   "metadata": {},
   "source": [
    "Ce corpus vous est normalement fourni pour ce BE (CPE 19-20).\n",
    "\n",
    "Les données ont été découpées : une recette par fichier. Il y a 220 recettes.\n",
    "    \n",
    "On suppose que les 220 documents de ce corpus est placé dans  \"./data/recipes/{1, 2, ..., 220}.txt\" (donnez le vôtre !)"
   ]
  },
  {
   "cell_type": "markdown",
   "metadata": {},
   "source": [
    "# Exploration des données Textes\n",
    "\n",
    "## Recettes Italiens\n",
    "\n",
    "Origine : https://www.gutenberg.org/ebooks/24407 (public domain)\n",
    "\n",
    "Les données dans : `./data/recipes/{1, 2, ..., 220}.txt`\n",
    "\n",
    "Il y a  220 recettes (unerecette par fichier)"
   ]
  },
  {
   "cell_type": "markdown",
   "metadata": {},
   "source": [
    "## I) Charger les données \n",
    "\n",
    "Chargement dans le dico `documents` \n",
    "\n",
    "En même temps, et pour faciliter les manipulations, les documents sont regroupés dans un STRING\n",
    ":  `corpus_all_in_one` "
   ]
  },
  {
   "cell_type": "code",
   "execution_count": 1,
   "metadata": {
    "collapsed": false,
    "jupyter": {
     "outputs_hidden": false
    }
   },
   "outputs": [
    {
     "name": "stdout",
     "output_type": "stream",
     "text": [
      "Nbr de docs: 220\n",
      "Taille Corpus : 161146\n"
     ]
    }
   ],
   "source": [
    "import os\n",
    "\n",
    "data_folder = os.path.join('./', 'data', 'recipes')\n",
    "all_recipe_files = [os.path.join(data_folder, fname)\n",
    "                    for fname in os.listdir(data_folder)]\n",
    "\n",
    "documents = {}\n",
    "for recipe_fname in all_recipe_files:\n",
    "    bname = os.path.basename(recipe_fname)\n",
    "    recipe_number = os.path.splitext(bname)[0]\n",
    "    with open(recipe_fname, 'r') as f:\n",
    "        documents[recipe_number] = f.read()\n",
    "\n",
    "corpus_all_in_one = ' '.join([doc for doc in documents.values()])\n",
    "\n",
    "print(\"Nbr de docs: {}\".format(len(documents)))\n",
    "print(\"Taille Corpus : {}\".format(len(corpus_all_in_one)))"
   ]
  },
  {
   "cell_type": "markdown",
   "metadata": {},
   "source": [
    "## 2) Tokenisation\n",
    "\n",
    "Tokenisation est le process de découper les chaînes de caractères en une liste de tokens (lexemes, termes).\n",
    "\n",
    "Un token peut être (since we speak English !)   :\n",
    "- Words\n",
    "- Phrases\n",
    "- Punctuation\n",
    "- Numbers\n",
    "- Dates\n",
    "- Currencies\n",
    "- Hashtags\n",
    "- ...?"
   ]
  },
  {
   "cell_type": "code",
   "execution_count": 3,
   "metadata": {
    "collapsed": false,
    "jupyter": {
     "outputs_hidden": false
    }
   },
   "outputs": [
    {
     "name": "stdout",
     "output_type": "stream",
     "text": [
      "traitement en python 3\n",
      "Nombre Total des tokens: 33719\n"
     ]
    }
   ],
   "source": [
    "from nltk.tokenize import word_tokenize\n",
    "\n",
    "try:  # py3\n",
    "    all_tokens = [t for t in word_tokenize(corpus_all_in_one)]\n",
    "    print(\"traitement en python 3\")\n",
    "except UnicodeDecodeError:  # py27\n",
    "    all_tokens = [t for t in word_tokenize(corpus_all_in_one.decode('utf-8'))]\n",
    "    print(\"traitement en python 2\")\n",
    "\n",
    "print(\"Nombre Total des tokens: {}\".format(len(all_tokens)))"
   ]
  },
  {
   "cell_type": "markdown",
   "metadata": {},
   "source": [
    "## 3) Quelques tokens fréquents\n",
    "\n",
    "Comptage avec `collections.Counter`\n",
    "\n",
    "On veut trouver :\n",
    "\n",
    "- Le nb occurrences d'un mot dans le corpus  (et  Tf : Terme Frequency)\n",
    "- Et éventuellement : dans combien de documents ce mot apparait "
   ]
  },
  {
   "cell_type": "markdown",
   "metadata": {},
   "source": [
    "### 3.1) Tf : per document term-frequancy "
   ]
  },
  {
   "cell_type": "code",
   "execution_count": 5,
   "metadata": {},
   "outputs": [
    {
     "name": "stdout",
     "output_type": "stream",
     "text": [
      "No Document\t (Token, Nb_occ du token dans Document)\n",
      "148 \t\t [('it', 7), ('.', 7)]\n",
      "14 \t\t [('and', 10), ('.', 8)]\n",
      "145 \t\t [(',', 8), ('and', 5)]\n",
      "152 \t\t [('the', 5), (',', 4)]\n",
      "50 \t\t [(',', 8), ('the', 6)]\n",
      "192 \t\t [(',', 17), ('and', 9)]\n",
      "210 \t\t [('the', 5), ('is', 3)]\n",
      "40 \t\t [('the', 52), (',', 37)]\n",
      "13 \t\t [('.', 10), ('the', 9)]\n",
      "64 \t\t [(',', 10), ('the', 10)]\n",
      "203 \t\t [(',', 15), ('the', 14)]\n"
     ]
    }
   ],
   "source": [
    "# TF : Fréquences par document : les  tokens les plus fréquens par doc\n",
    "from collections import Counter\n",
    "\n",
    "print(\"No Document\\t (Token, Nb_occ du token dans Document)\")\n",
    "Max_nb_lignes=10    # On affichera que 10 réponses\n",
    "for  ind in documents.keys() :\n",
    "    doc_tokens = [t for t in word_tokenize(documents[ind])]\n",
    "    \n",
    "    occs = Counter(doc_tokens).most_common(2)\n",
    "    print(ind,\"\\t\\t\", occs)\n",
    "        \n",
    "    Max_nb_lignes-=1\n",
    "    if Max_nb_lignes < 0 : break\n",
    " "
   ]
  },
  {
   "cell_type": "markdown",
   "metadata": {},
   "source": [
    "* Notons au passage que certains termes sont inutiles (cf. '.', 'the' répété, ....)"
   ]
  },
  {
   "cell_type": "markdown",
   "metadata": {},
   "source": [
    "### 3.2) Total_Tf : Total trem-frequancy "
   ]
  },
  {
   "cell_type": "code",
   "execution_count": 7,
   "metadata": {
    "collapsed": false,
    "jupyter": {
     "outputs_hidden": false
    }
   },
   "outputs": [
    {
     "name": "stdout",
     "output_type": "stream",
     "text": [
      "Token \t nb_occ TOTAL\n",
      "______________________________\n",
      "the\t1933\n",
      ",\t1726\n",
      ".\t1568\n",
      "and\t1435\n",
      "a\t1076\n",
      "of\t988\n",
      "in\t811\n",
      "with\t726\n",
      "it\t537\n",
      "to\t452\n",
      "or\t389\n",
      "is\t337\n",
      "(\t295\n",
      ")\t295\n",
      "be\t266\n",
      "them\t248\n",
      "butter\t231\n",
      "on\t220\n",
      "water\t205\n",
      "little\t198\n"
     ]
    }
   ],
   "source": [
    "# Fréquences dans le corpus\n",
    "\n",
    "from collections import Counter\n",
    "\n",
    "total_term_frequency = Counter(all_tokens)\n",
    "print(\"Token \\t nb_occ TOTAL\")\n",
    "print('_'*30)\n",
    "for word, freq in total_term_frequency.most_common(20):\n",
    "    print(\"{}\\t{}\".format(word, freq))"
   ]
  },
  {
   "cell_type": "markdown",
   "metadata": {},
   "source": [
    "### 3.3) Df   (document frequency) : dans combien de documents un mot apparait-il ?\n",
    "Les mots considérés sont les (20) mots les plus fréquents (utile poir __Idf__ puis __TfIdf__ plus bas)"
   ]
  },
  {
   "cell_type": "code",
   "execution_count": 8,
   "metadata": {
    "collapsed": false,
    "jupyter": {
     "outputs_hidden": false
    }
   },
   "outputs": [
    {
     "name": "stdout",
     "output_type": "stream",
     "text": [
      ".\t220\n",
      "and\t220\n",
      ",\t219\n",
      "(\t218\n",
      ")\t218\n",
      "the\t217\n",
      "in\t215\n",
      "a\t210\n",
      "of\t210\n",
      "with\t203\n",
      "it\t167\n",
      "or\t165\n",
      "to\t165\n",
      "is\t145\n",
      "salt\t142\n",
      "butter\t137\n",
      "on\t136\n",
      "be\t133\n",
      "put\t126\n",
      "water\t125\n"
     ]
    }
   ],
   "source": [
    "document_frequency = Counter()\n",
    "\n",
    "for recipe_number, content in documents.items():\n",
    "    tokens = word_tokenize(content)\n",
    "    unique_tokens = set(tokens)\n",
    "    document_frequency.update(unique_tokens)\n",
    "\n",
    "for word, freq in document_frequency.most_common(20):\n",
    "    print(\"{}\\t{}\".format(word, freq))"
   ]
  },
  {
   "cell_type": "markdown",
   "metadata": {},
   "source": [
    "## 4) Stop-words (mots usuels)\n",
    "\n",
    "On constate que certains mots (fréquents) ne sont pas porteurs d'information. C'est par exemple le cas d'un déterminant, article, pronons, ...\n",
    "\n",
    "On les appelle \"__mots usuels__\" (**stop-words**) \n",
    "* N.B. :  il n'y a pas de liste de mots usuels universelle (per lingua)\n",
    "\n",
    "* N.B. : Il y a parfois des \"regrets\" : \n",
    "    - Si on supprimes les mot susuels des expressions telles que \n",
    "\"to be or not to be\", que deviendrions-nous alors !?"
   ]
  },
  {
   "cell_type": "code",
   "execution_count": 10,
   "metadata": {
    "collapsed": false,
    "jupyter": {
     "outputs_hidden": false
    }
   },
   "outputs": [
    {
     "name": "stdout",
     "output_type": "stream",
     "text": [
      "* Les mot usuels (En) : \n",
      " ['i', 'me', 'my', 'myself', 'we', 'our', 'ours', 'ourselves', 'you', \"you're\", \"you've\", \"you'll\", \"you'd\", 'your', 'yours', 'yourself', 'yourselves', 'he', 'him', 'his', 'himself', 'she', \"she's\", 'her', 'hers', 'herself', 'it', \"it's\", 'its', 'itself', 'they', 'them', 'their', 'theirs', 'themselves', 'what', 'which', 'who', 'whom', 'this', 'that', \"that'll\", 'these', 'those', 'am', 'is', 'are', 'was', 'were', 'be', 'been', 'being', 'have', 'has', 'had', 'having', 'do', 'does', 'did', 'doing', 'a', 'an', 'the', 'and', 'but', 'if', 'or', 'because', 'as', 'until', 'while', 'of', 'at', 'by', 'for', 'with', 'about', 'against', 'between', 'into', 'through', 'during', 'before', 'after', 'above', 'below', 'to', 'from', 'up', 'down', 'in', 'out', 'on', 'off', 'over', 'under', 'again', 'further', 'then', 'once', 'here', 'there', 'when', 'where', 'why', 'how', 'all', 'any', 'both', 'each', 'few', 'more', 'most', 'other', 'some', 'such', 'no', 'nor', 'not', 'only', 'own', 'same', 'so', 'than', 'too', 'very', 's', 't', 'can', 'will', 'just', 'don', \"don't\", 'should', \"should've\", 'now', 'd', 'll', 'm', 'o', 're', 've', 'y', 'ain', 'aren', \"aren't\", 'couldn', \"couldn't\", 'didn', \"didn't\", 'doesn', \"doesn't\", 'hadn', \"hadn't\", 'hasn', \"hasn't\", 'haven', \"haven't\", 'isn', \"isn't\", 'ma', 'mightn', \"mightn't\", 'mustn', \"mustn't\", 'needn', \"needn't\", 'shan', \"shan't\", 'shouldn', \"shouldn't\", 'wasn', \"wasn't\", 'weren', \"weren't\", 'won', \"won't\", 'wouldn', \"wouldn't\"]\n",
      "* Nb mots usuels (En) 179\n",
      "* Ponctuations (En) :  !\"#$%&'()*+,-./:;<=>?@[\\]^_`{|}~\n"
     ]
    }
   ],
   "source": [
    "from nltk.corpus import stopwords\n",
    "import string\n",
    "\n",
    "print(\"* Les mot usuels (En) : \\n\", stopwords.words('english'))\n",
    "print(\"* Nb mots usuels (En)\", len(stopwords.words('english')))\n",
    "print(\"* Ponctuations (En) : \", string.punctuation)"
   ]
  },
  {
   "cell_type": "markdown",
   "metadata": {},
   "source": [
    "### Et  en Français :"
   ]
  },
  {
   "cell_type": "code",
   "execution_count": 11,
   "metadata": {},
   "outputs": [
    {
     "name": "stdout",
     "output_type": "stream",
     "text": [
      "* Les mot susuels (Fr) : \n",
      " ['au', 'aux', 'avec', 'ce', 'ces', 'dans', 'de', 'des', 'du', 'elle', 'en', 'et', 'eux', 'il', 'ils', 'je', 'la', 'le', 'les', 'leur', 'lui', 'ma', 'mais', 'me', 'même', 'mes', 'moi', 'mon', 'ne', 'nos', 'notre', 'nous', 'on', 'ou', 'par', 'pas', 'pour', 'qu', 'que', 'qui', 'sa', 'se', 'ses', 'son', 'sur', 'ta', 'te', 'tes', 'toi', 'ton', 'tu', 'un', 'une', 'vos', 'votre', 'vous', 'c', 'd', 'j', 'l', 'à', 'm', 'n', 's', 't', 'y', 'été', 'étée', 'étées', 'étés', 'étant', 'étante', 'étants', 'étantes', 'suis', 'es', 'est', 'sommes', 'êtes', 'sont', 'serai', 'seras', 'sera', 'serons', 'serez', 'seront', 'serais', 'serait', 'serions', 'seriez', 'seraient', 'étais', 'était', 'étions', 'étiez', 'étaient', 'fus', 'fut', 'fûmes', 'fûtes', 'furent', 'sois', 'soit', 'soyons', 'soyez', 'soient', 'fusse', 'fusses', 'fût', 'fussions', 'fussiez', 'fussent', 'ayant', 'ayante', 'ayantes', 'ayants', 'eu', 'eue', 'eues', 'eus', 'ai', 'as', 'avons', 'avez', 'ont', 'aurai', 'auras', 'aura', 'aurons', 'aurez', 'auront', 'aurais', 'aurait', 'aurions', 'auriez', 'auraient', 'avais', 'avait', 'avions', 'aviez', 'avaient', 'eut', 'eûmes', 'eûtes', 'eurent', 'aie', 'aies', 'ait', 'ayons', 'ayez', 'aient', 'eusse', 'eusses', 'eût', 'eussions', 'eussiez', 'eussent']\n",
      "* Nb mots usuels (Fr) 157\n",
      "* Ponctuations (Fr) :  !\"#$%&'()*+,-./:;<=>?@[\\]^_`{|}~\n"
     ]
    }
   ],
   "source": [
    "from nltk.corpus import stopwords\n",
    "import string\n",
    "\n",
    "print(\"* Les mot susuels (Fr) : \\n\", stopwords.words('french'))\n",
    "print(\"* Nb mots usuels (Fr)\", len(stopwords.words('french')))\n",
    "print(\"* Ponctuations (Fr) : \", string.punctuation)"
   ]
  },
  {
   "cell_type": "markdown",
   "metadata": {},
   "source": [
    "## Suppression des mots usuels (anglais) dans notre corpus"
   ]
  },
  {
   "cell_type": "code",
   "execution_count": 12,
   "metadata": {
    "collapsed": false,
    "jupyter": {
     "outputs_hidden": false
    }
   },
   "outputs": [
    {
     "name": "stdout",
     "output_type": "stream",
     "text": [
      "butter\t231\n",
      "water\t205\n",
      "little\t198\n",
      "put\t197\n",
      "one\t186\n",
      "salt\t185\n",
      "fire\t169\n",
      "half\t169\n",
      "two\t157\n",
      "When\t132\n",
      "pepper\t128\n",
      "sauce\t128\n",
      "add\t125\n",
      "cut\t125\n",
      "piece\t116\n",
      "flour\t116\n",
      "The\t111\n",
      "saucepan\t100\n",
      "sugar\t100\n",
      "oil\t99\n"
     ]
    }
   ],
   "source": [
    "stop_list = stopwords.words('english') + list(string.punctuation)\n",
    "\n",
    "all_tokens_no_stop = [token for token in all_tokens if token not in stop_list]\n",
    "\n",
    "total_term_frequency_no_stop = Counter(all_tokens_no_stop)\n",
    "\n",
    "# Les 20 mots les plus fréquents\n",
    "for word, freq in total_term_frequency_no_stop.most_common(20):\n",
    "    print(\"{}\\t{}\".format(word, freq))"
   ]
  },
  {
   "cell_type": "markdown",
   "metadata": {},
   "source": [
    "Note : **When** et **The**   (W et T en majuscule)\n",
    "- Pour l'instant, on les différencie !\n",
    "\n",
    "### Interrogeons quelques fréquences (totales) avec __distinction__ des Min et Maj."
   ]
  },
  {
   "cell_type": "code",
   "execution_count": 134,
   "metadata": {
    "collapsed": false,
    "jupyter": {
     "outputs_hidden": false
    }
   },
   "outputs": [
    {
     "name": "stdout",
     "output_type": "stream",
     "text": [
      "27\n",
      "3\n",
      "1\n",
      "0\n",
      "0\n",
      "1\n"
     ]
    }
   ],
   "source": [
    "print(total_term_frequency_no_stop['olive'])\n",
    "print(total_term_frequency_no_stop['olives'])\n",
    "print(total_term_frequency_no_stop['Olive'])\n",
    "print(total_term_frequency_no_stop['Olives'])\n",
    "print(total_term_frequency_no_stop['OLIVE'])\n",
    "print(total_term_frequency_no_stop['OLIVES'])"
   ]
  },
  {
   "cell_type": "markdown",
   "metadata": {},
   "source": [
    "## 5) Normalisation du corpus\n",
    "On appelle \"Normalisation\" les étapes de   Stemming / Lemmatisation, ... qui interviennent après le \n",
    "nettoyage du texte  (cf. opérations précédentes).\n",
    "\n",
    "On remplace les termes par leur souche (racine, radical) où différentes conjugaisions d'un mots seront considérées comme identiques.\n",
    " \n",
    "Actions:\n",
    "- mettre en minuscule\n",
    "- stemming\n",
    "- mapping : American-to-British \n",
    "- mapping : synonym \n"
   ]
  },
  {
   "cell_type": "markdown",
   "metadata": {},
   "source": [
    "### 5.1) Stemming"
   ]
  },
  {
   "cell_type": "code",
   "execution_count": 13,
   "metadata": {
    "collapsed": false,
    "jupyter": {
     "outputs_hidden": false
    }
   },
   "outputs": [
    {
     "name": "stdout",
     "output_type": "stream",
     "text": [
      "put\t286\n",
      "butter\t245\n",
      "salt\t215\n",
      "piec\t211\n",
      "one\t210\n",
      "water\t209\n",
      "cook\t208\n",
      "littl\t198\n",
      "cut\t175\n",
      "half\t170\n",
      "brown\t169\n",
      "fire\t169\n",
      "egg\t163\n",
      "two\t162\n",
      "add\t160\n",
      "boil\t154\n",
      "sauc\t152\n",
      "pepper\t130\n",
      "serv\t128\n",
      "remov\t127\n"
     ]
    }
   ],
   "source": [
    "# Après normalisation, on affiche les 20 les plus fréquents\n",
    "\n",
    "from nltk.stem import PorterStemmer\n",
    "all_tokens_lower = [t.lower() for t in all_tokens]\n",
    "stemmer = PorterStemmer()\n",
    "\n",
    "tokens_no_stop_stemmed_normalised = [stemmer.stem(t) for t in all_tokens_lower if t not in stop_list]\n",
    "\n",
    "# Nouvelles fréquences\n",
    "total_term_frequency_stemmed_no_stop_normalised = Counter(tokens_no_stop_stemmed_normalised)\n",
    "\n",
    "for word, freq in total_term_frequency_stemmed_no_stop_normalised.most_common(20):\n",
    "    print(f\"{word}\\t{freq}\")"
   ]
  },
  {
   "cell_type": "markdown",
   "metadata": {},
   "source": [
    "* A comparer par exemple avec les 4 termes ci-dessous obtenus avant la normalisation.\n",
    "    - butter : 231     (vs. 245 ici)\n",
    "    - water : 205      (vs. 209)\n",
    "    - little : 198     (il a perdu son 'e')\n",
    "    - salt : 185       (vs 215)"
   ]
  },
  {
   "cell_type": "markdown",
   "metadata": {},
   "source": [
    "__Remarques__ : \n",
    "- Un stem n'est pas toujours un \"mot\" (qui apparaît dans un dico)\n",
    "- Se rappeler que les opérations comme la mise en minuscule sont irrévocables \n",
    "- Au fait : Ici, on fait abstraction du \"bon style\" de programmation (Python). "
   ]
  },
  {
   "cell_type": "markdown",
   "metadata": {},
   "source": [
    "###  5.2) Lemmatisation\n",
    "* Alternativement, on peut __lemmatiser__ les tokens (le terme résultat retenu doit figurer dans un dico)\n",
    "\n",
    "* Remarque :  notez p. ex. les termes  <font color='red'>\"piece\", \"little\" </font>  ci-dessous. \n",
    "* Certains termes ne sont plus parmi les 20 plus fréquents."
   ]
  },
  {
   "cell_type": "code",
   "execution_count": 14,
   "metadata": {},
   "outputs": [
    {
     "name": "stdout",
     "output_type": "stream",
     "text": [
      "put\t276\n",
      "butter\t243\n",
      "piece\t211\n",
      "one\t210\n",
      "water\t209\n",
      "little\t198\n",
      "salt\t197\n",
      "half\t173\n",
      "fire\t169\n",
      "cut\t166\n",
      "egg\t163\n",
      "two\t162\n",
      "add\t160\n",
      "sauce\t152\n",
      "pepper\t130\n",
      "flour\t123\n",
      "sugar\t116\n",
      "brown\t105\n",
      "saucepan\t101\n",
      "onion\t101\n"
     ]
    }
   ],
   "source": [
    "# Comparer  les résultats de la Lemmatization à ceux du stemming\n",
    "import nltk\n",
    "from nltk.stem import WordNetLemmatizer \n",
    "\n",
    "lemmatizer = WordNetLemmatizer()\n",
    "\n",
    "tokens_lemmatized_no_stop_normalised = [lemmatizer.lemmatize(t) for t in all_tokens_lower if t not in stop_list]\n",
    "\n",
    "# Nouvelles fréquences\n",
    "total_term_frequency_lemmatized_no_stop_normalized = Counter(tokens_lemmatized_no_stop_normalised)\n",
    "\n",
    "for word, freq in total_term_frequency_lemmatized_no_stop_normalized.most_common(20):\n",
    "    print(f\"{word}\\t{freq}\")"
   ]
  },
  {
   "cell_type": "markdown",
   "metadata": {},
   "source": [
    "## 6) n-grams \n",
    "\n",
    "Lorsque nous sommes intéressés par  le contexte des mots (dans une phrase par exemple), on peut \n",
    "utiliser les \n",
    "__n-grams__ qui représente l'entourage d'un mot (ses voisins). \n",
    "\n",
    "Un n-gram est une séquence de *n* mots (grams = grammes)  adjacents.\n",
    "\n",
    "On utilise généralement des bi-grams ou tri-grams..\n"
   ]
  },
  {
   "cell_type": "markdown",
   "metadata": {},
   "source": [
    "### 6.1) Exemples de 2-grams de notre corpus"
   ]
  },
  {
   "cell_type": "code",
   "execution_count": 15,
   "metadata": {
    "collapsed": false,
    "jupyter": {
     "outputs_hidden": false
    }
   },
   "outputs": [
    {
     "name": "stdout",
     "output_type": "stream",
     "text": [
      "('in', 'the')\t175\n",
      "('in', 'a')\t172\n",
      "('of', 'the')\t153\n",
      "('with', 'a')\t142\n",
      "('.', 'when')\t131\n",
      "('the', 'fire')\t129\n",
      "('on', 'the')\t128\n",
      "('with', 'the')\t117\n",
      "(',', 'and')\t117\n",
      "('salt', 'and')\t113\n",
      "('it', 'is')\t109\n",
      "('a', 'little')\t107\n",
      "('piece', 'of')\t102\n",
      "('and', 'a')\t102\n",
      "('of', 'butter')\t94\n",
      "('and', 'pepper')\t87\n",
      "('.', 'the')\t85\n",
      "('and', 'the')\t84\n",
      "('when', 'the')\t82\n",
      "('with', 'salt')\t80\n"
     ]
    }
   ],
   "source": [
    "from nltk import ngrams\n",
    "\n",
    "phrases = Counter(ngrams(all_tokens_lower, 2))\n",
    "for phrase, freq in phrases.most_common(20):\n",
    "    print(\"{}\\t{}\".format(phrase, freq))"
   ]
  },
  {
   "cell_type": "markdown",
   "metadata": {},
   "source": [
    "### 6.2) Les fréquences des 3-grams de notre corpus"
   ]
  },
  {
   "cell_type": "code",
   "execution_count": 16,
   "metadata": {
    "collapsed": false,
    "jupyter": {
     "outputs_hidden": false
    }
   },
   "outputs": [
    {
     "name": "stdout",
     "output_type": "stream",
     "text": [
      "('on', 'the', 'fire')\t90\n",
      "('salt', 'and', 'pepper')\t84\n",
      "('piece', 'of', 'butter')\t73\n",
      "('a', 'piece', 'of')\t63\n",
      "('with', 'salt', 'and')\t62\n",
      "('.', 'when', 'the')\t59\n",
      "('in', 'a', 'saucepan')\t45\n",
      "('a', 'pinch', 'of')\t45\n",
      "('season', 'with', 'salt')\t42\n",
      "('the', 'fire', 'with')\t41\n",
      "('when', 'it', 'is')\t39\n",
      "('and', 'pepper', '.')\t37\n",
      "('through', 'a', 'sieve')\t36\n",
      "('complete', 'the', 'cooking')\t34\n",
      "('and', 'a', 'half')\t33\n",
      "('of', 'butter', ',')\t27\n",
      "('a', 'taste', 'of')\t26\n",
      "('and', 'when', 'it')\t26\n",
      "('it', 'on', 'the')\t26\n",
      "(',', 'salt', 'and')\t25\n"
     ]
    }
   ],
   "source": [
    "phrases = Counter(ngrams(all_tokens_lower, 3))\n",
    "for phrase, freq in phrases.most_common(20):\n",
    "    print(\"{}\\t{}\".format(phrase, freq))"
   ]
  },
  {
   "cell_type": "markdown",
   "metadata": {},
   "source": [
    "### 6.3)  La fréquence des 2-grams après la suppression des  stop-words\n",
    "\n",
    "On peut noter que la suppression des Stop-word   affecte les n-grams\n",
    "\n",
    "Par ex, le triplet  \"a pinch of salt\" deviendra  \"pinch salt\"; ce qui affectera ses n-grams."
   ]
  },
  {
   "cell_type": "code",
   "execution_count": 18,
   "metadata": {
    "collapsed": false,
    "jupyter": {
     "outputs_hidden": false
    }
   },
   "outputs": [
    {
     "name": "stdout",
     "output_type": "stream",
     "text": [
      "('salt', 'pepper')\t106\n",
      "('piece', 'butter')\t73\n",
      "('grated', 'cheese')\t55\n",
      "('bread', 'crumbs')\t34\n",
      "('put', 'fire')\t32\n",
      "('tomato', 'sauce')\t32\n",
      "('complete', 'cooking')\t31\n",
      "('brown', 'stock')\t29\n",
      "('thin', 'slices')\t29\n",
      "('season', 'salt')\t29\n",
      "('olive', 'oil')\t26\n",
      "('low', 'fire')\t25\n",
      "('chopped', 'fine')\t25\n",
      "('boiling', 'water')\t22\n",
      "('little', 'pieces')\t22\n",
      "('half', 'ounces')\t21\n",
      "('lemon', 'peel')\t18\n",
      "('one', 'two')\t18\n",
      "('two', 'ounces')\t18\n",
      "('half', 'cooked')\t18\n"
     ]
    }
   ],
   "source": [
    "phrases = Counter(ngrams(all_tokens_no_stop, 2))\n",
    "\n",
    "for phrase, freq in phrases.most_common(20):\n",
    "    print(\"{}\\t{}\".format(phrase, freq))"
   ]
  },
  {
   "cell_type": "markdown",
   "metadata": {},
   "source": [
    "### 6.4) La fréquence des 3-grams après  la suppression des  stop-words\n",
    "\n",
    "Même remarque que ci-dessus : on peut noter uqe la suppression des Stop-word   affecte les n-grams\n",
    "\n",
    "De même, le triplet  \"a pinch of salt\" deviendra  \"pinch salt\"  et aura d'autres 3-grams."
   ]
  },
  {
   "cell_type": "code",
   "execution_count": 19,
   "metadata": {
    "collapsed": false,
    "jupyter": {
     "outputs_hidden": false
    }
   },
   "outputs": [
    {
     "name": "stdout",
     "output_type": "stream",
     "text": [
      "('season', 'salt', 'pepper')\t57\n",
      "('bread', 'crumb', 'ground')\t13\n",
      "('cut', 'thin', 'slice')\t13\n",
      "('tast', 'lemon', 'peel')\t12\n",
      "('sprinkl', 'bread', 'crumb')\t11\n",
      "('pinch', 'grate', 'chees')\t11\n",
      "('greas', 'butter', 'sprinkl')\t10\n",
      "('small', 'piec', 'butter')\t10\n",
      "('good', 'oliv', 'oil')\t10\n",
      "('crumb', 'ground', 'fine')\t9\n",
      "('half', 'inch', 'thick')\t9\n",
      "('cut', 'small', 'piec')\t9\n",
      "('cut', 'littl', 'piec')\t9\n",
      "('anoth', 'piec', 'butter')\t9\n",
      "('medium', 'size', 'onion')\t9\n",
      "('ounc', 'sweet', 'almond')\t9\n",
      "('piec', 'butter', 'brown')\t9\n",
      "('saucepan', 'piec', 'butter')\t9\n",
      "('littl', 'piec', 'butter')\t8\n",
      "('tomato', 'sauc', '12')\t8\n"
     ]
    }
   ],
   "source": [
    "phrases = Counter(ngrams(tokens_no_stop_stemmed_normalised, 3))\n",
    "\n",
    "for phrase, freq in phrases.most_common(20):\n",
    "    print(\"{}\\t{}\".format(phrase, freq))"
   ]
  },
  {
   "cell_type": "markdown",
   "metadata": {},
   "source": [
    "### 6.5) Même chose avec les tokens lemmatisés"
   ]
  },
  {
   "cell_type": "code",
   "execution_count": 20,
   "metadata": {},
   "outputs": [
    {
     "name": "stdout",
     "output_type": "stream",
     "text": [
      "('season', 'salt', 'pepper')\t44\n",
      "('bread', 'crumb', 'ground')\t13\n",
      "('cut', 'thin', 'slice')\t13\n",
      "('taste', 'lemon', 'peel')\t12\n",
      "('pinch', 'grated', 'cheese')\t11\n",
      "('small', 'piece', 'butter')\t10\n",
      "('good', 'olive', 'oil')\t10\n",
      "('crumb', 'ground', 'fine')\t9\n",
      "('half', 'inch', 'thick')\t9\n",
      "('greased', 'butter', 'sprinkled')\t9\n",
      "('cut', 'small', 'piece')\t9\n",
      "('cut', 'little', 'piece')\t9\n",
      "('another', 'piece', 'butter')\t9\n",
      "('medium', 'sized', 'onion')\t9\n",
      "('ounce', 'sweet', 'almond')\t9\n",
      "('saucepan', 'piece', 'butter')\t9\n",
      "('little', 'piece', 'butter')\t8\n",
      "('tomato', 'sauce', '12')\t8\n",
      "('three', 'half', 'ounce')\t8\n",
      "('butter', 'salt', 'pepper')\t7\n"
     ]
    }
   ],
   "source": [
    "total_freq_lemm_phrases = Counter(ngrams(tokens_lemmatized_no_stop_normalised, 3))\n",
    "\n",
    "for phrase, freq in total_freq_lemm_phrases.most_common(20):\n",
    "    print(\"{}\\t{}\".format(phrase, freq))"
   ]
  },
  {
   "cell_type": "code",
   "execution_count": null,
   "metadata": {},
   "outputs": [],
   "source": []
  }
 ],
 "metadata": {
  "kernelspec": {
   "display_name": "Python 3",
   "language": "python",
   "name": "python3"
  },
  "language_info": {
   "codemirror_mode": {
    "name": "ipython",
    "version": 3
   },
   "file_extension": ".py",
   "mimetype": "text/x-python",
   "name": "python",
   "nbconvert_exporter": "python",
   "pygments_lexer": "ipython3",
   "version": "3.7.4"
  }
 },
 "nbformat": 4,
 "nbformat_minor": 4
}
